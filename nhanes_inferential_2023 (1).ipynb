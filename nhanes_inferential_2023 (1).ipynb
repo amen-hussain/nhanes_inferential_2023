{
  "nbformat": 4,
  "nbformat_minor": 0,
  "metadata": {
    "colab": {
      "provenance": []
    },
    "kernelspec": {
      "name": "python3",
      "display_name": "Python 3"
    },
    "language_info": {
      "name": "python"
    }
  },
  "cells": [
    {
      "cell_type": "markdown",
      "source": [
        "# nhanes_inferential_2023\n",
        "NHANES 2021-2023 Inferential Analytics Assignment\n",
        "\n",
        "In this assignment, you will use NHANES data to perform basic inferential statistics using Python in Google Colab. You will explore relationships and differences in health metrics and demographic variables, utilizing the skills learned in class to answer key questions about the dataset. Your final analysis should be saved as a Google Colab notebook and uploaded to a GitHub repository.\n"
      ],
      "metadata": {
        "id": "a6z-Uv4R8pdl"
      }
    },
    {
      "cell_type": "code",
      "source": [
        "\n",
        "import pandas as pd\n",
        "from scipy.stats import chi2_contingency\n",
        "import numpy as np"
      ],
      "metadata": {
        "id": "A1q7J9ZWLxtU"
      },
      "execution_count": 7,
      "outputs": []
    },
    {
      "cell_type": "code",
      "source": [
        "\n",
        "demo = pd.read_sas('https://wwwn.cdc.gov/Nchs/Nhanes/2021-2022/DEMO_L.XPT', format='xport')\n",
        "bp = pd.read_sas('https://wwwn.cdc.gov/Nchs/Nhanes/2021-2022/BPXO_L.XPT', format='xport')\n",
        "body = pd.read_sas('https://wwwn.cdc.gov/Nchs/Nhanes/2021-2022/BMX_L.XPT', format='xport')\n",
        "chol_total = pd.read_sas('https://wwwn.cdc.gov/Nchs/Nhanes/2021-2022/TCHOL_L.XPT', format='xport')\n",
        "glycohemo = pd.read_sas('https://wwwn.cdc.gov/Nchs/Nhanes/2021-2022/GHB_L.XPT', format='xport')\n",
        "crp = pd.read_sas('https://wwwn.cdc.gov/Nchs/Nhanes/2021-2022/HSCRP_L.XPT', format='xport')\n",
        "dm = pd.read_sas('https://wwwn.cdc.gov/Nchs/Nhanes/2021-2022/DIQ_L.XPT', format='xport')\n",
        "phy = pd.read_sas('https://wwwn.cdc.gov/Nchs/Nhanes/2021-2022/PAQ_L.XPT', format='xport')\n",
        "whd = pd.read_sas('https://wwwn.cdc.gov/Nchs/Nhanes/2021-2022/WHQ_L.XPT', format='xport')"
      ],
      "metadata": {
        "id": "a5bP8AbD1L-3"
      },
      "execution_count": 8,
      "outputs": []
    },
    {
      "cell_type": "code",
      "source": [
        "nhanes_data = demo.merge(bp, on='SEQN', how='left')\\\n",
        "                  .merge(body, on='SEQN', how='left')\\\n",
        "                  .merge(chol_total, on='SEQN', how='left')\\\n",
        "                  .merge(glycohemo, on='SEQN', how='left')\\\n",
        "                  .merge(crp, on='SEQN', how='left')\\\n",
        "                  .merge(dm, on='SEQN', how='left')\\\n",
        "                  .merge(phy, on='SEQN', how='left')\\\n",
        "                  .merge(whd, on='SEQN', how='left')\n",
        "\n",
        "\n",
        "print(nhanes_data)"
      ],
      "metadata": {
        "colab": {
          "base_uri": "https://localhost:8080/"
        },
        "id": "g_cn1OnH1vwY",
        "outputId": "9358c12e-8472-4d0c-af31-f1794c18a01c"
      },
      "execution_count": 9,
      "outputs": [
        {
          "output_type": "stream",
          "name": "stdout",
          "text": [
            "           SEQN  SDDSRVYR  RIDSTATR  RIAGENDR  RIDAGEYR  RIDAGEMN  RIDRETH1  \\\n",
            "0      130378.0      12.0       2.0       1.0      43.0       NaN       5.0   \n",
            "1      130379.0      12.0       2.0       1.0      66.0       NaN       3.0   \n",
            "2      130380.0      12.0       2.0       2.0      44.0       NaN       2.0   \n",
            "3      130381.0      12.0       2.0       2.0       5.0       NaN       5.0   \n",
            "4      130382.0      12.0       2.0       1.0       2.0       NaN       3.0   \n",
            "...         ...       ...       ...       ...       ...       ...       ...   \n",
            "11928  142306.0      12.0       2.0       1.0       9.0       NaN       2.0   \n",
            "11929  142307.0      12.0       2.0       2.0      49.0       NaN       4.0   \n",
            "11930  142308.0      12.0       2.0       1.0      50.0       NaN       2.0   \n",
            "11931  142309.0      12.0       2.0       1.0      40.0       NaN       2.0   \n",
            "11932  142310.0      12.0       2.0       2.0      80.0       NaN       3.0   \n",
            "\n",
            "       RIDRETH3  RIDEXMON  RIDEXAGM  ...  PAD790U  PAD800       PAD810Q  \\\n",
            "0           6.0       2.0       NaN  ...     b'W'    45.0  3.000000e+00   \n",
            "1           3.0       2.0       NaN  ...     b'W'    45.0  3.000000e+00   \n",
            "2           2.0       1.0       NaN  ...     b'W'    20.0  5.397605e-79   \n",
            "3           7.0       1.0      71.0  ...      NaN     NaN           NaN   \n",
            "4           3.0       2.0      34.0  ...      NaN     NaN           NaN   \n",
            "...         ...       ...       ...  ...      ...     ...           ...   \n",
            "11928       2.0       1.0     111.0  ...      NaN     NaN           NaN   \n",
            "11929       4.0       2.0       NaN  ...     b'W'    15.0  5.397605e-79   \n",
            "11930       2.0       1.0       NaN  ...     b'W'    45.0  5.397605e-79   \n",
            "11931       2.0       1.0       NaN  ...     b'D'    15.0  5.397605e-79   \n",
            "11932       3.0       1.0       NaN  ...      b''     NaN  5.397605e-79   \n",
            "\n",
            "       PAD810U  PAD820  PAD680  WHD010  WHD020  WHD050  WHQ070  \n",
            "0         b'W'    45.0   360.0    71.0   190.0   200.0     1.0  \n",
            "1         b'W'    45.0   480.0    70.0   220.0   220.0     2.0  \n",
            "2          b''     NaN   240.0    60.0   150.0   165.0     1.0  \n",
            "3          NaN     NaN     NaN     NaN     NaN     NaN     NaN  \n",
            "4          NaN     NaN     NaN     NaN     NaN     NaN     NaN  \n",
            "...        ...     ...     ...     ...     ...     ...     ...  \n",
            "11928      NaN     NaN     NaN     NaN     NaN     NaN     NaN  \n",
            "11929      b''     NaN   480.0    61.0   206.0   235.0     1.0  \n",
            "11930      b''     NaN   600.0    69.0   174.0   180.0     1.0  \n",
            "11931      b''     NaN   240.0    69.0   200.0   170.0     2.0  \n",
            "11932      b''     NaN   360.0    64.0   157.0   157.0     1.0  \n",
            "\n",
            "[11933 rows x 86 columns]\n"
          ]
        }
      ]
    },
    {
      "cell_type": "code",
      "source": [
        "nhanes_data['DMDMARTZ'] = nhanes_data['DMDMARTZ'].apply(lambda x: 1 if x == 1 else 0)\n",
        "nhanes_data['DMDEDUC2'] = nhanes_data['DMDEDUC2'].apply(lambda x: 1 if x in [4, 5] else 0)\n",
        "nhanes_data['PAD680'].replace([7777, 9999], np.nan, inplace=True)\n",
        "nhanes_data['WHD020'].replace([7777, 9999], np.nan, inplace=True)"
      ],
      "metadata": {
        "colab": {
          "base_uri": "https://localhost:8080/"
        },
        "id": "PexilHN210eL",
        "outputId": "5643096e-7bbe-4375-8c20-b05a4373232e"
      },
      "execution_count": 10,
      "outputs": [
        {
          "output_type": "stream",
          "name": "stderr",
          "text": [
            "<ipython-input-10-69fb298a54c5>:3: FutureWarning: A value is trying to be set on a copy of a DataFrame or Series through chained assignment using an inplace method.\n",
            "The behavior will change in pandas 3.0. This inplace method will never work because the intermediate object on which we are setting values always behaves as a copy.\n",
            "\n",
            "For example, when doing 'df[col].method(value, inplace=True)', try using 'df.method({col: value}, inplace=True)' or df[col] = df[col].method(value) instead, to perform the operation inplace on the original object.\n",
            "\n",
            "\n",
            "  nhanes_data['PAD680'].replace([7777, 9999], np.nan, inplace=True)\n",
            "<ipython-input-10-69fb298a54c5>:4: FutureWarning: A value is trying to be set on a copy of a DataFrame or Series through chained assignment using an inplace method.\n",
            "The behavior will change in pandas 3.0. This inplace method will never work because the intermediate object on which we are setting values always behaves as a copy.\n",
            "\n",
            "For example, when doing 'df[col].method(value, inplace=True)', try using 'df.method({col: value}, inplace=True)' or df[col] = df[col].method(value) instead, to perform the operation inplace on the original object.\n",
            "\n",
            "\n",
            "  nhanes_data['WHD020'].replace([7777, 9999], np.nan, inplace=True)\n"
          ]
        }
      ]
    },
    {
      "cell_type": "markdown",
      "source": [
        "   - **Question 1**: \"Is there an association between marital status (married or not married) and education level (bachelor’s degree or higher vs. less than a bachelor’s degree)?\"  \n",
        "     - Variables: `DMDMARTZ` (marital status) and `DMDEDUC2` (education level). Recode as specified."
      ],
      "metadata": {
        "id": "NMlkkR6i7TH3"
      }
    },
    {
      "cell_type": "code",
      "source": [
        "\n",
        "from scipy.stats import chi2_contingency\n",
        "contingency_table = pd.crosstab(nhanes_data['DMDMARTZ'], nhanes_data['DMDEDUC2'])\n",
        "chi2, p, dof, ex = chi2_contingency(contingency_table)\n",
        "print(f\"Chi2 Statistic: {chi2}, p-value: {p}\")\n"
      ],
      "metadata": {
        "id": "WYwqdPuZ8uN4",
        "colab": {
          "base_uri": "https://localhost:8080/"
        },
        "outputId": "babe89da-f4b9-438f-ded5-74352e8848c1"
      },
      "execution_count": 11,
      "outputs": [
        {
          "output_type": "stream",
          "name": "stdout",
          "text": [
            "Chi2 Statistic: 1677.006341355503, p-value: 0.0\n"
          ]
        }
      ]
    },
    {
      "cell_type": "markdown",
      "source": [
        "ANS: No."
      ],
      "metadata": {
        "id": "HlXkf3cw17ny"
      }
    },
    {
      "cell_type": "markdown",
      "source": [
        "   - **Question 2**: \"Is there a difference in the mean sedentary behavior time between those who are married and those who are not married?\"  \n",
        "     - Variables: `DMDMARTZ` (marital status, recoded) and `PAD680` (sedentary behavior time, cleaned)."
      ],
      "metadata": {
        "id": "XcIJWB5Y8V-6"
      }
    },
    {
      "cell_type": "code",
      "source": [
        "\n",
        "from scipy.stats import ttest_ind\n",
        "married = nhanes_data[nhanes_data['DMDMARTZ'] == 1]['PAD680'].dropna()\n",
        "not_married = nhanes_data[nhanes_data['DMDMARTZ'] == 0]['PAD680'].dropna()\n",
        "t_stat, p_val = ttest_ind(married, not_married)\n",
        "print(f\"T-Statistic: {t_stat}, p-value: {p_val}\")"
      ],
      "metadata": {
        "id": "3KVqygBA8uq5",
        "colab": {
          "base_uri": "https://localhost:8080/"
        },
        "outputId": "f7985868-66dd-4d11-9985-513154d58b6c"
      },
      "execution_count": 12,
      "outputs": [
        {
          "output_type": "stream",
          "name": "stdout",
          "text": [
            "T-Statistic: -3.8740971309213887, p-value: 0.0001078679819334709\n"
          ]
        }
      ]
    },
    {
      "cell_type": "markdown",
      "source": [
        "ANS: There is a different as shown above by the t-test."
      ],
      "metadata": {
        "id": "yg7xaYhj2DGy"
      }
    },
    {
      "cell_type": "markdown",
      "source": [
        "   - **Question 3**: \"How do age and marital status affect systolic blood pressure?\"  \n",
        "     - Variables: `RIDAGEYR` (age), `DMDMARTZ` (marital status, recoded), and `BPXOSY3` (systolic blood pressure)."
      ],
      "metadata": {
        "id": "yV3KJJ6O8ayR"
      }
    },
    {
      "cell_type": "code",
      "source": [
        "import statsmodels.api as sm\n",
        "from statsmodels.formula.api import ols\n",
        "model = ols('BPXOSY3 ~ RIDAGEYR + C(DMDMARTZ)', data=nhanes_data).fit()\n",
        "anova_table = sm.stats.anova_lm(model, typ=2)\n",
        "print(anova_table)"
      ],
      "metadata": {
        "id": "cWqbyjvv8vTB",
        "colab": {
          "base_uri": "https://localhost:8080/"
        },
        "outputId": "c898e078-f3a6-4ee7-92a0-16f9cc079b81"
      },
      "execution_count": 13,
      "outputs": [
        {
          "output_type": "stream",
          "name": "stdout",
          "text": [
            "                   sum_sq      df            F    PR(>F)\n",
            "C(DMDMARTZ)  1.737748e+03     1.0     6.860916  0.008828\n",
            "RIDAGEYR     5.889160e+05     1.0  2325.138035  0.000000\n",
            "Residual     1.893791e+06  7477.0          NaN       NaN\n"
          ]
        }
      ]
    },
    {
      "cell_type": "markdown",
      "source": [
        "\n",
        "   - **Question 4**: \"Is there a correlation between self-reported weight and minutes of sedentary behavior?\"  \n",
        "     - Variables: `WHD020` (self-reported weight, cleaned) and `PAD680` (sedentary behavior time, cleaned)."
      ],
      "metadata": {
        "id": "5ftu0DlT8fGR"
      }
    },
    {
      "cell_type": "code",
      "source": [
        "subset_data = nhanes_data[['WHD020', 'PAD680']].dropna()\n",
        "from scipy.stats import pearsonr\n",
        "correlation, p_value = pearsonr(subset_data['WHD020'], subset_data['PAD680'])\n",
        "print(f\"Correlation: {correlation}, p-value: {p_value}\")"
      ],
      "metadata": {
        "id": "nVThKBbx8vp4",
        "colab": {
          "base_uri": "https://localhost:8080/"
        },
        "outputId": "973c1ed6-f405-41ec-d2e4-7a8df836dd54"
      },
      "execution_count": 14,
      "outputs": [
        {
          "output_type": "stream",
          "name": "stdout",
          "text": [
            "Correlation: 0.1559714584645021, p-value: 1.6988498386828133e-44\n"
          ]
        }
      ]
    },
    {
      "cell_type": "code",
      "source": [],
      "metadata": {
        "id": "4CIDZBS68wPS"
      },
      "execution_count": null,
      "outputs": []
    }
  ]
}